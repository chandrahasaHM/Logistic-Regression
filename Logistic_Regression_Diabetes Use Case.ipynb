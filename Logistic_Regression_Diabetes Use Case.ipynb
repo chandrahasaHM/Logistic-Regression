{
 "cells": [
  {
   "cell_type": "code",
   "execution_count": 1,
   "metadata": {},
   "outputs": [
    {
     "name": "stdout",
     "output_type": "stream",
     "text": [
      "C:\\Users\\91963\\Desktop\\Bikram Python\\My Practice\\Logistic Regresssion\n"
     ]
    }
   ],
   "source": [
    "#Setting working directory\n",
    "import os\n",
    "path = 'C:\\\\Users\\\\91963\\\\Desktop\\\\Bikram Python\\\\My Practice\\\\Logistic Regresssion'\n",
    "os.chdir(path)\n",
    "print(os.getcwd())"
   ]
  },
  {
   "cell_type": "code",
   "execution_count": 2,
   "metadata": {},
   "outputs": [],
   "source": [
    "import pandas as pd\n",
    "import numpy as np\n",
    "Diabetes=pd.read_csv('Diabetes.csv')"
   ]
  },
  {
   "cell_type": "code",
   "execution_count": 3,
   "metadata": {},
   "outputs": [
    {
     "data": {
      "text/html": [
       "<div>\n",
       "<style scoped>\n",
       "    .dataframe tbody tr th:only-of-type {\n",
       "        vertical-align: middle;\n",
       "    }\n",
       "\n",
       "    .dataframe tbody tr th {\n",
       "        vertical-align: top;\n",
       "    }\n",
       "\n",
       "    .dataframe thead th {\n",
       "        text-align: right;\n",
       "    }\n",
       "</style>\n",
       "<table border=\"1\" class=\"dataframe\">\n",
       "  <thead>\n",
       "    <tr style=\"text-align: right;\">\n",
       "      <th></th>\n",
       "      <th>1. Number of times pregnant</th>\n",
       "      <th>2. Plasma glucose concentration a 2 hours in an oral glucose tolerance test</th>\n",
       "      <th>3. Diastolic blood pressure (mm Hg)</th>\n",
       "      <th>4. Triceps skin fold thickness (mm)</th>\n",
       "      <th>5. 2-Hour serum insulin (mu U/ml)</th>\n",
       "      <th>6. Body mass index (weight in kg/(height in m)^2)</th>\n",
       "      <th>7. Diabetes pedigree function</th>\n",
       "      <th>8. Age (years)</th>\n",
       "      <th>9. Class variable (0 or 1)</th>\n",
       "    </tr>\n",
       "  </thead>\n",
       "  <tbody>\n",
       "    <tr>\n",
       "      <th>0</th>\n",
       "      <td>6</td>\n",
       "      <td>148</td>\n",
       "      <td>72</td>\n",
       "      <td>35</td>\n",
       "      <td>0</td>\n",
       "      <td>33.6</td>\n",
       "      <td>0.627</td>\n",
       "      <td>50</td>\n",
       "      <td>1</td>\n",
       "    </tr>\n",
       "    <tr>\n",
       "      <th>1</th>\n",
       "      <td>1</td>\n",
       "      <td>85</td>\n",
       "      <td>66</td>\n",
       "      <td>29</td>\n",
       "      <td>0</td>\n",
       "      <td>26.6</td>\n",
       "      <td>0.351</td>\n",
       "      <td>31</td>\n",
       "      <td>0</td>\n",
       "    </tr>\n",
       "    <tr>\n",
       "      <th>2</th>\n",
       "      <td>8</td>\n",
       "      <td>183</td>\n",
       "      <td>64</td>\n",
       "      <td>0</td>\n",
       "      <td>0</td>\n",
       "      <td>23.3</td>\n",
       "      <td>0.672</td>\n",
       "      <td>32</td>\n",
       "      <td>1</td>\n",
       "    </tr>\n",
       "    <tr>\n",
       "      <th>3</th>\n",
       "      <td>1</td>\n",
       "      <td>89</td>\n",
       "      <td>66</td>\n",
       "      <td>23</td>\n",
       "      <td>94</td>\n",
       "      <td>28.1</td>\n",
       "      <td>0.167</td>\n",
       "      <td>21</td>\n",
       "      <td>0</td>\n",
       "    </tr>\n",
       "    <tr>\n",
       "      <th>4</th>\n",
       "      <td>0</td>\n",
       "      <td>137</td>\n",
       "      <td>40</td>\n",
       "      <td>35</td>\n",
       "      <td>168</td>\n",
       "      <td>43.1</td>\n",
       "      <td>2.288</td>\n",
       "      <td>33</td>\n",
       "      <td>1</td>\n",
       "    </tr>\n",
       "  </tbody>\n",
       "</table>\n",
       "</div>"
      ],
      "text/plain": [
       "   1. Number of times pregnant  \\\n",
       "0                            6   \n",
       "1                            1   \n",
       "2                            8   \n",
       "3                            1   \n",
       "4                            0   \n",
       "\n",
       "   2. Plasma glucose concentration a 2 hours in an oral glucose tolerance test  \\\n",
       "0                                                148                             \n",
       "1                                                 85                             \n",
       "2                                                183                             \n",
       "3                                                 89                             \n",
       "4                                                137                             \n",
       "\n",
       "   3. Diastolic blood pressure (mm Hg)  4. Triceps skin fold thickness (mm)  \\\n",
       "0                                   72                                   35   \n",
       "1                                   66                                   29   \n",
       "2                                   64                                    0   \n",
       "3                                   66                                   23   \n",
       "4                                   40                                   35   \n",
       "\n",
       "   5. 2-Hour serum insulin (mu U/ml)  \\\n",
       "0                                  0   \n",
       "1                                  0   \n",
       "2                                  0   \n",
       "3                                 94   \n",
       "4                                168   \n",
       "\n",
       "   6. Body mass index (weight in kg/(height in m)^2)  \\\n",
       "0                                               33.6   \n",
       "1                                               26.6   \n",
       "2                                               23.3   \n",
       "3                                               28.1   \n",
       "4                                               43.1   \n",
       "\n",
       "   7. Diabetes pedigree function  8. Age (years)  9. Class variable (0 or 1)  \n",
       "0                          0.627              50                           1  \n",
       "1                          0.351              31                           0  \n",
       "2                          0.672              32                           1  \n",
       "3                          0.167              21                           0  \n",
       "4                          2.288              33                           1  "
      ]
     },
     "execution_count": 3,
     "metadata": {},
     "output_type": "execute_result"
    }
   ],
   "source": [
    "Diabetes.head()"
   ]
  },
  {
   "cell_type": "code",
   "execution_count": 4,
   "metadata": {},
   "outputs": [],
   "source": [
    "# Objective of Logistic Regression: predict if someone has diabetes (Outcome=1) \n",
    "# Description of the data:\n",
    "  # Pregnancies: Number of times pregnant\n",
    "  # Glucose: Plasma glucose concentration a 2 hours in an oral glucose tolerance test\n",
    "  # BloodPressure: Diastolic blood pressure (mm Hg)\n",
    "  # SkinThickness: Triceps skin fold thickness (mm)\n",
    "  # Insulin: 2-Hour serum insulin (mu U/ml)\n",
    "  # BMI: Body mass index (weight in kg/(height in m)^2)\n",
    "  # DiabetesPedigreeFunction: Diabetes pedigree function\n",
    "  # Age: Age (years)\n",
    "  # Class Label: Outcome: Class variable (0 or 1)"
   ]
  },
  {
   "cell_type": "code",
   "execution_count": 5,
   "metadata": {},
   "outputs": [],
   "source": [
    "col_names = ['pregnant', 'glucose', 'bp', 'skin', 'insulin', 'bmi', 'pedigree', 'age','label']\n",
    "\n",
    "Diabetes = pd.read_csv('Diabetes.csv', header=0, names=col_names)"
   ]
  },
  {
   "cell_type": "code",
   "execution_count": 6,
   "metadata": {},
   "outputs": [
    {
     "data": {
      "text/html": [
       "<div>\n",
       "<style scoped>\n",
       "    .dataframe tbody tr th:only-of-type {\n",
       "        vertical-align: middle;\n",
       "    }\n",
       "\n",
       "    .dataframe tbody tr th {\n",
       "        vertical-align: top;\n",
       "    }\n",
       "\n",
       "    .dataframe thead th {\n",
       "        text-align: right;\n",
       "    }\n",
       "</style>\n",
       "<table border=\"1\" class=\"dataframe\">\n",
       "  <thead>\n",
       "    <tr style=\"text-align: right;\">\n",
       "      <th></th>\n",
       "      <th>pregnant</th>\n",
       "      <th>glucose</th>\n",
       "      <th>bp</th>\n",
       "      <th>skin</th>\n",
       "      <th>insulin</th>\n",
       "      <th>bmi</th>\n",
       "      <th>pedigree</th>\n",
       "      <th>age</th>\n",
       "      <th>label</th>\n",
       "    </tr>\n",
       "  </thead>\n",
       "  <tbody>\n",
       "    <tr>\n",
       "      <th>0</th>\n",
       "      <td>6</td>\n",
       "      <td>148</td>\n",
       "      <td>72</td>\n",
       "      <td>35</td>\n",
       "      <td>0</td>\n",
       "      <td>33.6</td>\n",
       "      <td>0.627</td>\n",
       "      <td>50</td>\n",
       "      <td>1</td>\n",
       "    </tr>\n",
       "    <tr>\n",
       "      <th>1</th>\n",
       "      <td>1</td>\n",
       "      <td>85</td>\n",
       "      <td>66</td>\n",
       "      <td>29</td>\n",
       "      <td>0</td>\n",
       "      <td>26.6</td>\n",
       "      <td>0.351</td>\n",
       "      <td>31</td>\n",
       "      <td>0</td>\n",
       "    </tr>\n",
       "    <tr>\n",
       "      <th>2</th>\n",
       "      <td>8</td>\n",
       "      <td>183</td>\n",
       "      <td>64</td>\n",
       "      <td>0</td>\n",
       "      <td>0</td>\n",
       "      <td>23.3</td>\n",
       "      <td>0.672</td>\n",
       "      <td>32</td>\n",
       "      <td>1</td>\n",
       "    </tr>\n",
       "    <tr>\n",
       "      <th>3</th>\n",
       "      <td>1</td>\n",
       "      <td>89</td>\n",
       "      <td>66</td>\n",
       "      <td>23</td>\n",
       "      <td>94</td>\n",
       "      <td>28.1</td>\n",
       "      <td>0.167</td>\n",
       "      <td>21</td>\n",
       "      <td>0</td>\n",
       "    </tr>\n",
       "    <tr>\n",
       "      <th>4</th>\n",
       "      <td>0</td>\n",
       "      <td>137</td>\n",
       "      <td>40</td>\n",
       "      <td>35</td>\n",
       "      <td>168</td>\n",
       "      <td>43.1</td>\n",
       "      <td>2.288</td>\n",
       "      <td>33</td>\n",
       "      <td>1</td>\n",
       "    </tr>\n",
       "  </tbody>\n",
       "</table>\n",
       "</div>"
      ],
      "text/plain": [
       "   pregnant  glucose  bp  skin  insulin   bmi  pedigree  age  label\n",
       "0         6      148  72    35        0  33.6     0.627   50      1\n",
       "1         1       85  66    29        0  26.6     0.351   31      0\n",
       "2         8      183  64     0        0  23.3     0.672   32      1\n",
       "3         1       89  66    23       94  28.1     0.167   21      0\n",
       "4         0      137  40    35      168  43.1     2.288   33      1"
      ]
     },
     "execution_count": 6,
     "metadata": {},
     "output_type": "execute_result"
    }
   ],
   "source": [
    "Diabetes.head()"
   ]
  },
  {
   "cell_type": "code",
   "execution_count": 7,
   "metadata": {},
   "outputs": [],
   "source": [
    "# Note that label = 1 implies diabetec and 0 implies non-diabetic"
   ]
  },
  {
   "cell_type": "code",
   "execution_count": 8,
   "metadata": {},
   "outputs": [],
   "source": [
    "table1=np.mean(Diabetes,axis=0)\n",
    "table2=np.std(Diabetes,axis=0)"
   ]
  },
  {
   "cell_type": "code",
   "execution_count": 9,
   "metadata": {},
   "outputs": [
    {
     "data": {
      "text/plain": [
       "pregnant      3.845052\n",
       "glucose     120.894531\n",
       "bp           69.105469\n",
       "skin         20.536458\n",
       "insulin      79.799479\n",
       "bmi          31.992578\n",
       "pedigree      0.471876\n",
       "age          33.240885\n",
       "label         0.348958\n",
       "dtype: float64"
      ]
     },
     "execution_count": 9,
     "metadata": {},
     "output_type": "execute_result"
    }
   ],
   "source": [
    "table1"
   ]
  },
  {
   "cell_type": "code",
   "execution_count": 10,
   "metadata": {},
   "outputs": [],
   "source": [
    "# The data are unbalanced with 35% of observations having diabetes. "
   ]
  },
  {
   "cell_type": "code",
   "execution_count": 11,
   "metadata": {},
   "outputs": [
    {
     "data": {
      "text/plain": [
       "pregnant      3.367384\n",
       "glucose      31.951796\n",
       "bp           19.343202\n",
       "skin         15.941829\n",
       "insulin     115.168949\n",
       "bmi           7.879026\n",
       "pedigree      0.331113\n",
       "age          11.752573\n",
       "label         0.476641\n",
       "dtype: float64"
      ]
     },
     "execution_count": 11,
     "metadata": {},
     "output_type": "execute_result"
    }
   ],
   "source": [
    "table2"
   ]
  },
  {
   "cell_type": "code",
   "execution_count": 12,
   "metadata": {},
   "outputs": [],
   "source": [
    "# The standard deviation of the different variables is also very different, \n",
    "# to compare the coefficient of the different variables,\n",
    "# the coefficient will need to be standardized."
   ]
  },
  {
   "cell_type": "code",
   "execution_count": 13,
   "metadata": {},
   "outputs": [
    {
     "data": {
      "text/plain": [
       "0    500\n",
       "1    268\n",
       "Name: label, dtype: int64"
      ]
     },
     "execution_count": 13,
     "metadata": {},
     "output_type": "execute_result"
    }
   ],
   "source": [
    "#To check if the data is equally balanced between the target classes\n",
    "Diabetes['label'].value_counts()"
   ]
  },
  {
   "cell_type": "code",
   "execution_count": 14,
   "metadata": {},
   "outputs": [],
   "source": [
    "# Definitely a case of Class Imbalance"
   ]
  },
  {
   "cell_type": "code",
   "execution_count": 15,
   "metadata": {},
   "outputs": [],
   "source": [
    "X = Diabetes.iloc[:,:8]\n",
    "y = Diabetes.iloc[:,8]"
   ]
  },
  {
   "cell_type": "code",
   "execution_count": 16,
   "metadata": {},
   "outputs": [
    {
     "data": {
      "text/html": [
       "<div>\n",
       "<style scoped>\n",
       "    .dataframe tbody tr th:only-of-type {\n",
       "        vertical-align: middle;\n",
       "    }\n",
       "\n",
       "    .dataframe tbody tr th {\n",
       "        vertical-align: top;\n",
       "    }\n",
       "\n",
       "    .dataframe thead th {\n",
       "        text-align: right;\n",
       "    }\n",
       "</style>\n",
       "<table border=\"1\" class=\"dataframe\">\n",
       "  <thead>\n",
       "    <tr style=\"text-align: right;\">\n",
       "      <th></th>\n",
       "      <th>pregnant</th>\n",
       "      <th>glucose</th>\n",
       "      <th>bp</th>\n",
       "      <th>skin</th>\n",
       "      <th>insulin</th>\n",
       "      <th>bmi</th>\n",
       "      <th>pedigree</th>\n",
       "      <th>age</th>\n",
       "    </tr>\n",
       "  </thead>\n",
       "  <tbody>\n",
       "    <tr>\n",
       "      <th>0</th>\n",
       "      <td>6</td>\n",
       "      <td>148</td>\n",
       "      <td>72</td>\n",
       "      <td>35</td>\n",
       "      <td>0</td>\n",
       "      <td>33.6</td>\n",
       "      <td>0.627</td>\n",
       "      <td>50</td>\n",
       "    </tr>\n",
       "    <tr>\n",
       "      <th>1</th>\n",
       "      <td>1</td>\n",
       "      <td>85</td>\n",
       "      <td>66</td>\n",
       "      <td>29</td>\n",
       "      <td>0</td>\n",
       "      <td>26.6</td>\n",
       "      <td>0.351</td>\n",
       "      <td>31</td>\n",
       "    </tr>\n",
       "    <tr>\n",
       "      <th>2</th>\n",
       "      <td>8</td>\n",
       "      <td>183</td>\n",
       "      <td>64</td>\n",
       "      <td>0</td>\n",
       "      <td>0</td>\n",
       "      <td>23.3</td>\n",
       "      <td>0.672</td>\n",
       "      <td>32</td>\n",
       "    </tr>\n",
       "    <tr>\n",
       "      <th>3</th>\n",
       "      <td>1</td>\n",
       "      <td>89</td>\n",
       "      <td>66</td>\n",
       "      <td>23</td>\n",
       "      <td>94</td>\n",
       "      <td>28.1</td>\n",
       "      <td>0.167</td>\n",
       "      <td>21</td>\n",
       "    </tr>\n",
       "    <tr>\n",
       "      <th>4</th>\n",
       "      <td>0</td>\n",
       "      <td>137</td>\n",
       "      <td>40</td>\n",
       "      <td>35</td>\n",
       "      <td>168</td>\n",
       "      <td>43.1</td>\n",
       "      <td>2.288</td>\n",
       "      <td>33</td>\n",
       "    </tr>\n",
       "  </tbody>\n",
       "</table>\n",
       "</div>"
      ],
      "text/plain": [
       "   pregnant  glucose  bp  skin  insulin   bmi  pedigree  age\n",
       "0         6      148  72    35        0  33.6     0.627   50\n",
       "1         1       85  66    29        0  26.6     0.351   31\n",
       "2         8      183  64     0        0  23.3     0.672   32\n",
       "3         1       89  66    23       94  28.1     0.167   21\n",
       "4         0      137  40    35      168  43.1     2.288   33"
      ]
     },
     "execution_count": 16,
     "metadata": {},
     "output_type": "execute_result"
    }
   ],
   "source": [
    "X.head()"
   ]
  },
  {
   "cell_type": "code",
   "execution_count": 17,
   "metadata": {},
   "outputs": [
    {
     "data": {
      "text/plain": [
       "0    1\n",
       "1    0\n",
       "2    1\n",
       "3    0\n",
       "4    1\n",
       "Name: label, dtype: int64"
      ]
     },
     "execution_count": 17,
     "metadata": {},
     "output_type": "execute_result"
    }
   ],
   "source": [
    "y.head()"
   ]
  },
  {
   "cell_type": "code",
   "execution_count": 18,
   "metadata": {},
   "outputs": [
    {
     "data": {
      "text/plain": [
       "pandas.core.frame.DataFrame"
      ]
     },
     "execution_count": 18,
     "metadata": {},
     "output_type": "execute_result"
    }
   ],
   "source": [
    "# Notice that X is a matrix,\n",
    "type(X)"
   ]
  },
  {
   "cell_type": "code",
   "execution_count": 19,
   "metadata": {},
   "outputs": [
    {
     "data": {
      "text/plain": [
       "pandas.core.series.Series"
      ]
     },
     "execution_count": 19,
     "metadata": {},
     "output_type": "execute_result"
    }
   ],
   "source": [
    "# Notice that y is a vector\n",
    "type(y)"
   ]
  },
  {
   "cell_type": "code",
   "execution_count": 20,
   "metadata": {},
   "outputs": [],
   "source": [
    "# split X and y into training and testing sets\n",
    "from sklearn.model_selection import train_test_split\n",
    "X_train, X_test, y_train, y_test = train_test_split(X, y, random_state=0)"
   ]
  },
  {
   "cell_type": "code",
   "execution_count": 21,
   "metadata": {},
   "outputs": [
    {
     "name": "stderr",
     "output_type": "stream",
     "text": [
      "C:\\Users\\91963\\anaconda3\\lib\\site-packages\\sklearn\\linear_model\\_logistic.py:764: ConvergenceWarning: lbfgs failed to converge (status=1):\n",
      "STOP: TOTAL NO. of ITERATIONS REACHED LIMIT.\n",
      "\n",
      "Increase the number of iterations (max_iter) or scale the data as shown in:\n",
      "    https://scikit-learn.org/stable/modules/preprocessing.html\n",
      "Please also refer to the documentation for alternative solver options:\n",
      "    https://scikit-learn.org/stable/modules/linear_model.html#logistic-regression\n",
      "  extra_warning_msg=_LOGISTIC_SOLVER_CONVERGENCE_MSG)\n"
     ]
    },
    {
     "data": {
      "text/plain": [
       "LogisticRegression()"
      ]
     },
     "execution_count": 21,
     "metadata": {},
     "output_type": "execute_result"
    }
   ],
   "source": [
    "# train a logistic regression model on the training set\n",
    "from sklearn.linear_model import LogisticRegression\n",
    "\n",
    "# instantiate model\n",
    "logreg = LogisticRegression()\n",
    "\n",
    "# fit model\n",
    "logreg.fit(X_train, y_train)"
   ]
  },
  {
   "cell_type": "code",
   "execution_count": 22,
   "metadata": {},
   "outputs": [],
   "source": [
    "# make class predictions for the testing set\n",
    "y_pred_class = logreg.predict(X_test)"
   ]
  },
  {
   "cell_type": "code",
   "execution_count": 23,
   "metadata": {},
   "outputs": [
    {
     "data": {
      "text/plain": [
       "0.7916666666666666"
      ]
     },
     "execution_count": 23,
     "metadata": {},
     "output_type": "execute_result"
    }
   ],
   "source": [
    "#Score?\n",
    "logreg.score(X_test,y_test)"
   ]
  },
  {
   "cell_type": "code",
   "execution_count": 24,
   "metadata": {},
   "outputs": [
    {
     "name": "stdout",
     "output_type": "stream",
     "text": [
      "0.7916666666666666\n"
     ]
    }
   ],
   "source": [
    "# calculate accuracy\n",
    "from sklearn import metrics\n",
    "print(metrics.accuracy_score(y_test, y_pred_class))"
   ]
  },
  {
   "cell_type": "code",
   "execution_count": 25,
   "metadata": {},
   "outputs": [],
   "source": [
    "# What is the difference in the above two Though results are same."
   ]
  },
  {
   "cell_type": "code",
   "execution_count": 26,
   "metadata": {},
   "outputs": [],
   "source": [
    "# Accuracy may not be the right measure at times, especially if your Target class is not balanced "
   ]
  },
  {
   "cell_type": "code",
   "execution_count": 27,
   "metadata": {},
   "outputs": [],
   "source": [
    "# Now that we have the accuracy, what shall we do next?\n",
    "# Null accuracy: accuracy that could be achieved by always predicting the most frequent class"
   ]
  },
  {
   "cell_type": "code",
   "execution_count": 28,
   "metadata": {},
   "outputs": [
    {
     "data": {
      "text/plain": [
       "0    130\n",
       "1     62\n",
       "Name: label, dtype: int64"
      ]
     },
     "execution_count": 28,
     "metadata": {},
     "output_type": "execute_result"
    }
   ],
   "source": [
    "# examine the class distribution of the testing set (using a Pandas Series method)\n",
    "y_test.value_counts()"
   ]
  },
  {
   "cell_type": "code",
   "execution_count": 29,
   "metadata": {},
   "outputs": [
    {
     "data": {
      "text/plain": [
       "0.3229166666666667"
      ]
     },
     "execution_count": 29,
     "metadata": {},
     "output_type": "execute_result"
    }
   ],
   "source": [
    "# calculate the percentage of ones\n",
    "# because y_test only contains ones and zeros, \n",
    "# we can simply calculate the mean = percentage of ones\n",
    "y_test.mean()"
   ]
  },
  {
   "cell_type": "code",
   "execution_count": 30,
   "metadata": {},
   "outputs": [
    {
     "data": {
      "text/plain": [
       "0.6770833333333333"
      ]
     },
     "execution_count": 30,
     "metadata": {},
     "output_type": "execute_result"
    }
   ],
   "source": [
    "# calculate the percentage of zeros\n",
    "1 - y_test.mean()"
   ]
  },
  {
   "cell_type": "code",
   "execution_count": 31,
   "metadata": {},
   "outputs": [
    {
     "data": {
      "text/plain": [
       "0.6770833333333333"
      ]
     },
     "execution_count": 31,
     "metadata": {},
     "output_type": "execute_result"
    }
   ],
   "source": [
    "# calculate null accuracy in a single line of code\n",
    "# only for binary classification problems coded as 0/1\n",
    "max(y_test.mean(), 1 - y_test.mean())"
   ]
  },
  {
   "cell_type": "code",
   "execution_count": 32,
   "metadata": {},
   "outputs": [],
   "source": [
    "# This means that a dumb model that always predicts 0 would be right 68% of the time\n",
    "  # This shows how classification accuracy is not that good as it's close to a dumb model\n",
    "  # It's a good way to know the minimum we should achieve with our models"
   ]
  },
  {
   "cell_type": "code",
   "execution_count": 33,
   "metadata": {},
   "outputs": [
    {
     "data": {
      "text/plain": [
       "0    0.677083\n",
       "Name: label, dtype: float64"
      ]
     },
     "execution_count": 33,
     "metadata": {},
     "output_type": "execute_result"
    }
   ],
   "source": [
    "# calculate null accuracy (for multi-class classification problems)\n",
    "y_test.value_counts().head(1) / len(y_test)"
   ]
  },
  {
   "cell_type": "code",
   "execution_count": 34,
   "metadata": {},
   "outputs": [
    {
     "name": "stdout",
     "output_type": "stream",
     "text": [
      "Actual   : [1 0 0 1 0 0 1 1 0 0 1 1 0 0 0 0 1 0 0 0 1 1 0 0 0]\n",
      "Predicted: [1 0 0 1 0 0 1 1 1 0 1 1 0 0 0 0 1 0 0 0 1 0 0 0 0]\n"
     ]
    }
   ],
   "source": [
    "# print the first 25 true and predicted responses\n",
    "print('Actual   :', y_test.values[0:25])\n",
    "print('Predicted:', y_pred_class[0:25])"
   ]
  },
  {
   "cell_type": "code",
   "execution_count": 35,
   "metadata": {},
   "outputs": [],
   "source": [
    "# This sort of accuracy score does not tell you the \"types\" of errors\n",
    "# Classification accuracy alone can be misleading if you have an unequal \n",
    "   # number of observations in each class or if you have more than two classes"
   ]
  },
  {
   "cell_type": "code",
   "execution_count": 36,
   "metadata": {},
   "outputs": [
    {
     "name": "stdout",
     "output_type": "stream",
     "text": [
      "[[115  15]\n",
      " [ 25  37]]\n"
     ]
    }
   ],
   "source": [
    "# CONFUSION MATRIX\n",
    "# IMPORTANT: first argument is true values, second argument is predicted values\n",
    "# this produces a 2x2 numpy array (matrix)\n",
    "print(metrics.confusion_matrix(y_test, y_pred_class))"
   ]
  },
  {
   "cell_type": "code",
   "execution_count": 37,
   "metadata": {},
   "outputs": [
    {
     "data": {
      "text/plain": [
       "0    130\n",
       "1     62\n",
       "Name: label, dtype: int64"
      ]
     },
     "execution_count": 37,
     "metadata": {},
     "output_type": "execute_result"
    }
   ],
   "source": [
    "y_test.value_counts()"
   ]
  },
  {
   "cell_type": "code",
   "execution_count": 38,
   "metadata": {},
   "outputs": [],
   "source": [
    "# Remember that Python's Confusion Matrix is inverted of what you see in most Internet articles\n",
    "# tn, fp, fn, tp is the output order of \"metrics.confusion_matrix\" [Could be different with different languages]\n",
    "# Refer Documentation for more details: https://scikit-learn.org/stable/modules/generated/sklearn.metrics.confusion_matrix.html"
   ]
  },
  {
   "cell_type": "code",
   "execution_count": 40,
   "metadata": {},
   "outputs": [
    {
     "data": {
      "image/png": "[encoded data removed]",
      "text/plain": [
       "<IPython.core.display.Image object>"
      ]
     },
     "execution_count": 40,
     "metadata": {},
     "output_type": "execute_result"
    }
   ],
   "source": [
    "from IPython.display import Image\n",
    "Image(filename='ConfusionMatrix.png')"
   ]
  },
  {
   "cell_type": "code",
   "execution_count": 39,
   "metadata": {},
   "outputs": [],
   "source": [
    "# Extracting Information from our Confusion Matrix:\n",
    "   # True Positives (TP): we correctly predicted that they do have diabetes\n",
    "     # 36\n",
    "   # True Negatives (TN): we correctly predicted that they don't have diabetes\n",
    "     # 119\n",
    "   # False Positives (FP): we incorrectly predicted that they do have diabetes (a \"Type I error\")\n",
    "     # 11\n",
    "     # A.K.A \"Type I error\"\n",
    "   # False Negatives (FN): we incorrectly predicted that they don't have diabetes (a \"Type II error\")\n",
    "     # 26\n",
    "     # A.K.A \"Type II error\""
   ]
  },
  {
   "cell_type": "code",
   "execution_count": 40,
   "metadata": {},
   "outputs": [
    {
     "name": "stdout",
     "output_type": "stream",
     "text": [
      "[[115  15]\n",
      " [ 25  37]]\n"
     ]
    }
   ],
   "source": [
    "# save confusion matrix and slice into four pieces\n",
    "confusion = metrics.confusion_matrix(y_test, y_pred_class)\n",
    "print(confusion)\n",
    "#[row, column]\n",
    "TN = confusion[0, 0]\n",
    "FP = confusion[0, 1]\n",
    "FN = confusion[1, 0]\n",
    "TP = confusion[1, 1]"
   ]
  },
  {
   "cell_type": "code",
   "execution_count": 41,
   "metadata": {},
   "outputs": [
    {
     "name": "stdout",
     "output_type": "stream",
     "text": [
      "0.7916666666666666\n",
      "0.7916666666666666\n"
     ]
    }
   ],
   "source": [
    "# The most basic accuracy of the model is (TP + TN) / Total\n",
    "# Which is, the total true predictions (properly classified) divided by total number of predictions\n",
    "# use float to perform true division, not integer division\n",
    "print((TP + TN) / (TP + TN + FP + FN))\n",
    "print(metrics.accuracy_score(y_test, y_pred_class))"
   ]
  },
  {
   "cell_type": "code",
   "execution_count": 42,
   "metadata": {},
   "outputs": [
    {
     "name": "stdout",
     "output_type": "stream",
     "text": [
      "0.20833333333333334\n",
      "0.20833333333333337\n"
     ]
    }
   ],
   "source": [
    "# Classification Error (Misclassification Rate) or (Error rate):\n",
    "# Overall, how often is the classifier incorrect?\n",
    "classification_error = (FP + FN) / float(TP + TN + FP + FN)\n",
    "print(classification_error)\n",
    "# Alternatively, 1 - accuracy also gives the error rate\n",
    "print(1 - metrics.accuracy_score(y_test, y_pred_class))"
   ]
  },
  {
   "cell_type": "code",
   "execution_count": 43,
   "metadata": {},
   "outputs": [
    {
     "name": "stdout",
     "output_type": "stream",
     "text": [
      "0.5967741935483871\n",
      "0.5967741935483871\n"
     ]
    }
   ],
   "source": [
    "#SENSITIVITY  => True Positive Rate (TPR)  => RECALL\n",
    " # When the actual value is positive, or yes, or True, or 1, how often is the prediction correct?\n",
    " # It is the measure of the probability that your estimate or prediction is 1 \n",
    "   # given all the samples whose true class label is 1. \n",
    " # It is a measure of how many of the positive samples have been identified as being positive.\n",
    " # Example: Of all patients in the set that actually have cancer, what fraction did we correctly detect?\n",
    " # Something we want to maximize\n",
    " # How \"sensitive\" is the classifier to detecting positive instances?\n",
    " # Out of all the positive classes, how much we predLcted correctly.\n",
    " # Also known as \"True Positive Rate\" or \"Recall\"\n",
    " # The best sensitivity is 1.0, whereas the worst is 0.0.\n",
    " # However, having a recall of 1 is not necessarily good, as a model which classifies everything \n",
    "   # as spam/cancer/diabetic has recall equal to 1, but also very low precision, as there will be a lot of false positives.\n",
    " # TP / all positive\n",
    "        # all positive = TP + FN\n",
    "sensitivity = TP / float(FN + TP)\n",
    "\n",
    "print(sensitivity)\n",
    "# Alternatively, directly call the recall_score function\n",
    "print(metrics.recall_score(y_test, y_pred_class))"
   ]
  },
  {
   "cell_type": "code",
   "execution_count": 44,
   "metadata": {},
   "outputs": [],
   "source": [
    "# Sensitivity in our Classifier is not so good!\n",
    "# So, around 42% of the Diabetic Patients were not correctly identified.\n",
    "# When one is diabetic, it is not able to predict that well"
   ]
  },
  {
   "cell_type": "code",
   "execution_count": 45,
   "metadata": {},
   "outputs": [
    {
     "data": {
      "text/plain": [
       "0.5967741935483871"
      ]
     },
     "execution_count": 45,
     "metadata": {},
     "output_type": "execute_result"
    }
   ],
   "source": [
    "# Alternative way of calculating SENSITIVITY  => True Positive Rate (TPR)\n",
    "## Extract just the True positives\n",
    "trueInput=X_test[y_test==1]\n",
    "trueOutput=y_test[y_test==1]\n",
    "##Find True positive rate\n",
    "np.mean(logreg.predict(trueInput)==trueOutput)"
   ]
  },
  {
   "cell_type": "code",
   "execution_count": 46,
   "metadata": {},
   "outputs": [
    {
     "name": "stdout",
     "output_type": "stream",
     "text": [
      "0.8846153846153846\n"
     ]
    },
    {
     "ename": "NameError",
     "evalue": "name 'false_positive_rate' is not defined",
     "output_type": "error",
     "traceback": [
      "\u001b[1;31m---------------------------------------------------------------------------\u001b[0m",
      "\u001b[1;31mNameError\u001b[0m                                 Traceback (most recent call last)",
      "\u001b[1;32m<ipython-input-46-30c6ed296805>\u001b[0m in \u001b[0;36m<module>\u001b[1;34m\u001b[0m\n\u001b[0;32m     13\u001b[0m \u001b[0mprint\u001b[0m\u001b[1;33m(\u001b[0m\u001b[0mspecificity\u001b[0m\u001b[1;33m)\u001b[0m\u001b[1;33m\u001b[0m\u001b[1;33m\u001b[0m\u001b[0m\n\u001b[0;32m     14\u001b[0m \u001b[1;31m# Though 'false_positive_rate' will be calculated later\u001b[0m\u001b[1;33m\u001b[0m\u001b[1;33m\u001b[0m\u001b[1;33m\u001b[0m\u001b[0m\n\u001b[1;32m---> 15\u001b[1;33m \u001b[0mprint\u001b[0m \u001b[1;33m(\u001b[0m\u001b[1;36m1\u001b[0m\u001b[1;33m-\u001b[0m\u001b[0mfalse_positive_rate\u001b[0m\u001b[1;33m)\u001b[0m\u001b[1;33m\u001b[0m\u001b[1;33m\u001b[0m\u001b[0m\n\u001b[0m",
      "\u001b[1;31mNameError\u001b[0m: name 'false_positive_rate' is not defined"
     ]
    }
   ],
   "source": [
    "# SPECIFICITY => True Negative Rate (TNR)\n",
    " # When the actual value is negative or no or False or 0, how often is the prediction correct?\n",
    " # Specificity is the measure of the probability that your estimate is 0 \n",
    "    #given all the samples whose true class label is 0. \n",
    " # It is a measure of how many of the negative samples have been identified as being negative.\n",
    " # Something we want to maximize\n",
    " # How \"specific\" (or \"selective\") is the classifier in predicting negative instances?\n",
    " # equivalent to 1 minus False Positive Rate (will discuss later on FPR)\n",
    " # The best specificity is 1.0, whereas the worst is 0.0.\n",
    " # TN / all negative\n",
    "     # all negative = TN + FP\n",
    "specificity = TN / (TN + FP)\n",
    "print(specificity)\n",
    "# Though 'false_positive_rate' will be calculated later\n",
    "print (1-false_positive_rate)"
   ]
  },
  {
   "cell_type": "code",
   "execution_count": 47,
   "metadata": {},
   "outputs": [],
   "source": [
    "# Specificity in our Classifier is very good!\n",
    "# When one is not diabetic, it is able to predict that well"
   ]
  },
  {
   "cell_type": "code",
   "execution_count": 48,
   "metadata": {},
   "outputs": [
    {
     "data": {
      "text/plain": [
       "0.8846153846153846"
      ]
     },
     "execution_count": 48,
     "metadata": {},
     "output_type": "execute_result"
    }
   ],
   "source": [
    "# Alternative way of calculating SPECIFICITY  => True Negative Rate (TNR)\n",
    "## Extract just the True positives\n",
    "falseInput=X_test[y_test==0]\n",
    "falseOutput=y_test[y_test==0]\n",
    "##Find True positive rate\n",
    "np.mean(logreg.predict(falseInput)==falseOutput)"
   ]
  },
  {
   "cell_type": "code",
   "execution_count": 49,
   "metadata": {},
   "outputs": [
    {
     "name": "stdout",
     "output_type": "stream",
     "text": [
      "0.11538461538461539\n",
      "0.11538461538461542\n"
     ]
    }
   ],
   "source": [
    "# False Positive Rate\n",
    " # When the actual value is negative, how often is the positive prediction incorrect?\n",
    " # the number of incorrect positive predictions divided by the total number of negatives.\n",
    " # The best false positive rate is 0.0 whereas the worst is 1.0\n",
    "false_positive_rate = FP / float(TN + FP)\n",
    "print(false_positive_rate)\n",
    "# It can also be calculated as 1 – specificity.\n",
    "print(1 - specificity)"
   ]
  },
  {
   "cell_type": "code",
   "execution_count": 50,
   "metadata": {},
   "outputs": [
    {
     "name": "stdout",
     "output_type": "stream",
     "text": [
      "0.7115384615384616\n",
      "0.7115384615384616\n"
     ]
    }
   ],
   "source": [
    "# PRECISION\n",
    " # When a positive value is predicted, how often is the prediction correct?\n",
    " # How \"precise\" is the classifier when predicting positive instances?\n",
    " # It is a measure of the probability that a sample is a true positive class \n",
    " # given that your classifier said it is positive.\n",
    " # Example: Of all patients we predicted have cancer, what fraction of them actually have cancer?\n",
    " # The best precision is 1.0, whereas the worst is 0.0.\n",
    "precision = TP / float(TP + FP)\n",
    "print(precision)\n",
    "print(metrics.precision_score(y_test, y_pred_class))"
   ]
  },
  {
   "cell_type": "code",
   "execution_count": 51,
   "metadata": {},
   "outputs": [],
   "source": [
    "# Precision Vs Recall\n",
    "#  While recall expresses the ability to find all relevant instances \n",
    "    # in a dataset, precision expresses the proportion of the data points \n",
    "    # our model says was relevant actually were relevant.\n",
    "# While testing with multiple algos, you can compare their outputs to see which one works best\n",
    "# Example usage: in case of an algorithm for fraud detection, recall is a more important metric. \n",
    "  # It is obviously important to catch every possible fraud even if it means that \n",
    "  # the authorities might need to go through some false positives. \n",
    "# Same is the case in a medical context, recall or Sensitivity (TPR) is used to see \n",
    "  # how many of the positive cases are correctly picked up. You cannot afford to miss critical cases\n",
    "\n",
    "# What about Spam prediction then?\n",
    "\n",
    "# On the other hand, if the algorithm is created for sentiment analysis and all you need is \n",
    "# a high-level idea of emotions indicated in tweets then aiming for precision is the way to go."
   ]
  },
  {
   "cell_type": "code",
   "execution_count": 52,
   "metadata": {},
   "outputs": [],
   "source": [
    "# Examples:\n",
    "  # False negatives, i.e. Falsely saying not-spam (spam goes to the inbox) are more acceptable \n",
    "  # than false positives, i.e. Falsely saying spam (non-spam is caught by the spam filter)\n",
    "\n",
    "# On the contrary----\n",
    "\n",
    "  # False negatives, i.e. Falsely saying not-cancer (not treated for cancer) are NOT acceptable \n",
    "  # than false positives, i.e. Falsely saying canserous (and treated for cancer)\n",
    "\n",
    "# What can you do about it? Use ROC curve and change thresholds?"
   ]
  },
  {
   "cell_type": "code",
   "execution_count": 53,
   "metadata": {},
   "outputs": [],
   "source": [
    "# Adjusting the classification Threshold"
   ]
  },
  {
   "cell_type": "code",
   "execution_count": 54,
   "metadata": {},
   "outputs": [
    {
     "data": {
      "text/plain": [
       "array([1, 0, 0, 1, 0, 0, 1, 1, 1, 0], dtype=int64)"
      ]
     },
     "execution_count": 54,
     "metadata": {},
     "output_type": "execute_result"
    }
   ],
   "source": [
    "# print the first 10 predicted responses\n",
    "# 1D array (vector) of binary values (0, 1)\n",
    "logreg.predict(X_test)[0:10]"
   ]
  },
  {
   "cell_type": "code",
   "execution_count": 55,
   "metadata": {},
   "outputs": [
    {
     "data": {
      "text/plain": [
       "array([[0.02571165, 0.97428835],\n",
       "       [0.83986057, 0.16013943],\n",
       "       [0.92323631, 0.07676369],\n",
       "       [0.31963922, 0.68036078],\n",
       "       [0.87826089, 0.12173911],\n",
       "       [0.96622171, 0.03377829],\n",
       "       [0.19574496, 0.80425504],\n",
       "       [0.10330855, 0.89669145],\n",
       "       [0.490708  , 0.509292  ],\n",
       "       [0.6347481 , 0.3652519 ]])"
      ]
     },
     "execution_count": 55,
     "metadata": {},
     "output_type": "execute_result"
    }
   ],
   "source": [
    "# print the first 10 predicted probabilities of class membership\n",
    "logreg.predict_proba(X_test)[0:10]"
   ]
  },
  {
   "cell_type": "code",
   "execution_count": 56,
   "metadata": {},
   "outputs": [
    {
     "data": {
      "text/plain": [
       "array([0, 1], dtype=int64)"
      ]
     },
     "execution_count": 56,
     "metadata": {},
     "output_type": "execute_result"
    }
   ],
   "source": [
    "# Notice that sum of the two classes are always 1.\n",
    "# BUT, how do you know which column belongs to what class, 0-class or 1-class?\n",
    "logreg.classes_"
   ]
  },
  {
   "cell_type": "code",
   "execution_count": 57,
   "metadata": {},
   "outputs": [],
   "source": [
    "# So, first column is 0-class! Yeh.\n",
    "# column 0: predicted probability that each observation is a member of class 0\n",
    "# column 1: predicted probability that each observation is a member of class 1"
   ]
  },
  {
   "cell_type": "code",
   "execution_count": 58,
   "metadata": {},
   "outputs": [],
   "source": [
    "# Now does the prediction of a class happen using the probabilities?"
   ]
  },
  {
   "cell_type": "code",
   "execution_count": 59,
   "metadata": {},
   "outputs": [
    {
     "data": {
      "text/plain": [
       "array([0.97428835, 0.16013943, 0.07676369, 0.68036078, 0.12173911,\n",
       "       0.03377829, 0.80425504, 0.89669145, 0.509292  , 0.3652519 ])"
      ]
     },
     "execution_count": 59,
     "metadata": {},
     "output_type": "execute_result"
    }
   ],
   "source": [
    "# Let us take a sample of column 1 (not column 0) \n",
    "# that represents class-1 probabilities- For a visual understanding\n",
    "logreg.predict_proba(X_test)[0:10, 1]"
   ]
  },
  {
   "cell_type": "code",
   "execution_count": 60,
   "metadata": {},
   "outputs": [],
   "source": [
    "# There is a 0.5 classification threshold by default\n",
    "# Class 1 is predicted if probability > 0.5\n",
    "# Class 0 is predicted if probability < 0.5"
   ]
  },
  {
   "cell_type": "code",
   "execution_count": 61,
   "metadata": {},
   "outputs": [],
   "source": [
    "# store the predicted probabilities for class 1\n",
    "y_pred_prob = logreg.predict_proba(X_test)[:, 1]"
   ]
  },
  {
   "cell_type": "code",
   "execution_count": 62,
   "metadata": {},
   "outputs": [],
   "source": [
    "# allow plots to appear in the notebook\n",
    "%matplotlib inline\n",
    "import matplotlib.pyplot as plt\n",
    "\n",
    "# adjust the font size \n",
    "plt.rcParams['font.size'] = 12"
   ]
  },
  {
   "cell_type": "code",
   "execution_count": 63,
   "metadata": {},
   "outputs": [
    {
     "data": {
      "text/plain": [
       "Text(0, 0.5, 'Frequency')"
      ]
     },
     "execution_count": 63,
     "metadata": {},
     "output_type": "execute_result"
    },
    {
     "data": {
      "image/png": "[encoded data removed]",
      "text/plain": [
       "<Figure size 432x288 with 1 Axes>"
      ]
     },
     "metadata": {
      "needs_background": "light"
     },
     "output_type": "display_data"
    }
   ],
   "source": [
    "# histogram of predicted probabilities\n",
    "\n",
    "# 8 bins\n",
    "plt.hist(y_pred_prob, bins=8)\n",
    "\n",
    "# x-axis limit from 0 to 1\n",
    "plt.xlim(0,1)\n",
    "plt.title('Histogram of predicted probabilities')\n",
    "plt.xlabel('Predicted probability of diabetes')\n",
    "plt.ylabel('Frequency')"
   ]
  },
  {
   "cell_type": "code",
   "execution_count": 64,
   "metadata": {},
   "outputs": [],
   "source": [
    "# Observations from the above Histogram of Prediction Probabilities:\n",
    "  # About 45% of observations have probability from 0.2 to 0.3\n",
    "  # Small number of observations with probability > 0.5\n",
    "  # This is below the threshold of 0.5\n",
    "  # Most would be predicted \"no diabetes\" in this case"
   ]
  },
  {
   "cell_type": "code",
   "execution_count": 65,
   "metadata": {},
   "outputs": [],
   "source": [
    "# What is the solution for increasing the 'Diabetic' prediction?\n",
    "# In other words, we want to increse the TP\n",
    "# So, Decrease the threshold for predicting diabetes\n",
    "# That means, Increase the sensitivity of the classifier"
   ]
  },
  {
   "cell_type": "code",
   "execution_count": 66,
   "metadata": {},
   "outputs": [
    {
     "name": "stderr",
     "output_type": "stream",
     "text": [
      "C:\\Users\\91963\\anaconda3\\lib\\site-packages\\sklearn\\utils\\validation.py:70: FutureWarning: Pass threshold=0.3 as keyword args. From version 0.25 passing these as positional arguments will result in an error\n",
      "  FutureWarning)\n"
     ]
    }
   ],
   "source": [
    "# predict diabetes if the predicted probability is greater than 0.3\n",
    "from sklearn.preprocessing import binarize\n",
    "# it will return 1 for all values above 0.3 and 0 otherwise\n",
    "# results are 2D so we slice out the first column\n",
    "y_pred_class_new = binarize(np.atleast_2d(y_pred_prob), 0.3)[0]"
   ]
  },
  {
   "cell_type": "code",
   "execution_count": 67,
   "metadata": {},
   "outputs": [
    {
     "data": {
      "text/plain": [
       "array([0.97428835, 0.16013943, 0.07676369, 0.68036078, 0.12173911,\n",
       "       0.03377829, 0.80425504, 0.89669145, 0.509292  , 0.3652519 ])"
      ]
     },
     "execution_count": 67,
     "metadata": {},
     "output_type": "execute_result"
    }
   ],
   "source": [
    "# print the first 10 predicted probabilities\n",
    "y_pred_prob[0:10]"
   ]
  },
  {
   "cell_type": "code",
   "execution_count": 68,
   "metadata": {},
   "outputs": [
    {
     "data": {
      "text/plain": [
       "array([1, 0, 0, 1, 0, 0, 1, 1, 1, 0], dtype=int64)"
      ]
     },
     "execution_count": 68,
     "metadata": {},
     "output_type": "execute_result"
    }
   ],
   "source": [
    "# Default Probability Classes\n",
    "logreg.predict(X_test)[0:10]"
   ]
  },
  {
   "cell_type": "code",
   "execution_count": 69,
   "metadata": {},
   "outputs": [
    {
     "data": {
      "text/plain": [
       "array([1., 0., 0., 1., 0., 0., 1., 1., 1., 1.])"
      ]
     },
     "execution_count": 69,
     "metadata": {},
     "output_type": "execute_result"
    }
   ],
   "source": [
    "# Adjusted Probability Classes\n",
    "y_pred_class_new[0:10]"
   ]
  },
  {
   "cell_type": "code",
   "execution_count": 70,
   "metadata": {},
   "outputs": [
    {
     "name": "stdout",
     "output_type": "stream",
     "text": [
      "[[115  15]\n",
      " [ 25  37]]\n"
     ]
    }
   ],
   "source": [
    "# previous confusion matrix (default threshold of 0.5)\n",
    "print(confusion)"
   ]
  },
  {
   "cell_type": "code",
   "execution_count": 71,
   "metadata": {},
   "outputs": [
    {
     "name": "stdout",
     "output_type": "stream",
     "text": [
      "[[94 36]\n",
      " [12 50]]\n"
     ]
    }
   ],
   "source": [
    "# new confusion matrix (threshold of 0.3)\n",
    "print(metrics.confusion_matrix(y_test, y_pred_class_new))"
   ]
  },
  {
   "cell_type": "code",
   "execution_count": 72,
   "metadata": {},
   "outputs": [
    {
     "name": "stdout",
     "output_type": "stream",
     "text": [
      "0.8709677419354839\n"
     ]
    }
   ],
   "source": [
    "# What is the new Sensitivity Score? \n",
    "# sensitivity must have increased (Old value was: 0.5806451612903226)\n",
    "print (54 / float(26 + 36))"
   ]
  },
  {
   "cell_type": "code",
   "execution_count": 73,
   "metadata": {},
   "outputs": [
    {
     "name": "stdout",
     "output_type": "stream",
     "text": [
      "0.6615384615384615\n"
     ]
    }
   ],
   "source": [
    "# specificity must have decreased (Old value was: 0.9153846153846154)\n",
    "print(86 / float(86 + 44))"
   ]
  },
  {
   "cell_type": "code",
   "execution_count": 74,
   "metadata": {},
   "outputs": [],
   "source": [
    "# Notice that Sensitivity and specificity have an inverse relationship\n",
    "# Increasing one would always decrease the other\n",
    "# We conclude that Threshold can be adjusted to increase sensitivity or specificity\n",
    "# Adjusting the threshold should be one of the last step you do in the model-building process"
   ]
  },
  {
   "cell_type": "code",
   "execution_count": 75,
   "metadata": {},
   "outputs": [],
   "source": [
    "# While changing the threshold value is impacting the sensitivity and specificity\n",
    "# and that, we must change is depending on the problem at hand\n",
    "# Wouldn't it be nice if we could see how sensitivity and specificity are affected by various thresholds?"
   ]
  },
  {
   "cell_type": "code",
   "execution_count": 76,
   "metadata": {},
   "outputs": [
    {
     "data": {
      "image/png": "[encoded data removed]",
      "text/plain": [
       "<Figure size 432x288 with 1 Axes>"
      ]
     },
     "metadata": {
      "needs_background": "light"
     },
     "output_type": "display_data"
    }
   ],
   "source": [
    "# ROC Curve #\n",
    "#############\n",
    "# This is a commonly used graph that summarizes the performance of a classifier over all possible thresholds.\n",
    "# IMPORTANT: first argument is true values, second argument is predicted probabilities\n",
    "# we pass y_test and y_pred_prob\n",
    "# we do not use y_pred_class, because it will give incorrect results without generating an error\n",
    "# roc_curve returns 3 objects fpr, tpr, thresholds\n",
    "# fpr: false positive rate\n",
    "# tpr: true positive rate\n",
    "fpr, tpr, thresholds = metrics.roc_curve(y_test, y_pred_prob)\n",
    "\n",
    "plt.plot(fpr, tpr)\n",
    "plt.xlim([0.0, 1.0])\n",
    "plt.ylim([0.0, 1.0])\n",
    "plt.rcParams['font.size'] = 12\n",
    "##Random FPR and TPR\n",
    "plt.plot([0, 1], [0, 1], color='red', lw=2, linestyle='--')\n",
    "plt.title('ROC curve for diabetes classifier')\n",
    "plt.xlabel('False Positive Rate (1 - Specificity)')\n",
    "plt.ylabel('True Positive Rate (Sensitivity)')\n",
    "plt.grid(True)"
   ]
  },
  {
   "cell_type": "code",
   "execution_count": 77,
   "metadata": {},
   "outputs": [],
   "source": [
    "## Interpreting ROC Curve ##\n",
    "# If your true positive rate is 0.25 it means that every time you call a positive, \n",
    "   # you have a probability of 0.75 of being wrong.\n",
    "\n",
    "# depicts relative trade-offs between \n",
    "  # benefits (true positives) and\n",
    "  # costs (false positives)\n",
    "\n",
    "# Point (0,1) is the perfect classifier- classifies all positive cases and negative cases correctly. \n",
    "  # It is (0,1) because the false positive rate is 0 (none), and the true positive rate is 1 (all).\n",
    "  # Commits no false positive errors, and gets all true positives\n",
    "\n",
    "# Point (0,0) represents a classifier that predicts all cases to be negative, \n",
    "  # Never issue a positive classification! \n",
    "  # Commits no false positive errors, but also gains no true positives\n",
    "\n",
    "# Point (1,1) corresponds to a classifier that predicts every case to be positive.\n",
    "  # Unconditionally issue positive classification!\n",
    "  # Predicts all positive instances correctly at the cost of predicting all negative instances wrongly\n",
    "\n",
    "# Point (1,0) is the classifier that is incorrect for all classifications. \n",
    "\n",
    "# In many cases, a classifier has a parameter that can be adjusted \n",
    "  # to increase TP at the cost of an increased FP or decrease FP at the cost of a decrease in TP. \n",
    "# Each parameter setting provides a (FP, TP) pair and a series of such pairs can be used to plot an ROC curve\n",
    "\n",
    "# ML Algorithms that produce probabilistic outputs (Logistic Regression, Naive Bayes etc.) \n",
    "   # can be better represented with ROC curves because different thresholds \n",
    "   # will produce different values in the ROC curve\n",
    " # A simple decision tree classifier produces the class labels directly, and can represent just a point in ROC curve"
   ]
  },
  {
   "cell_type": "code",
   "execution_count": 78,
   "metadata": {},
   "outputs": [
    {
     "data": {
      "text/plain": [
       "array([1.97428835, 0.97428835, 0.96977408, 0.96746586, 0.95220974,\n",
       "       0.94260989, 0.89334721, 0.84911785, 0.7500028 , 0.73545171,\n",
       "       0.72146615, 0.70078632, 0.6992273 , 0.6987947 , 0.68036078,\n",
       "       0.6770962 , 0.67188352, 0.67037287, 0.55742065, 0.54018343,\n",
       "       0.52731241, 0.49945809, 0.49734197, 0.48284206, 0.46842565,\n",
       "       0.46639132, 0.41684285, 0.40439916, 0.39267682, 0.39064065,\n",
       "       0.38904585, 0.37741769, 0.37492385, 0.31687134, 0.2901297 ,\n",
       "       0.28379361, 0.26733942, 0.266105  , 0.2659832 , 0.24568008,\n",
       "       0.23018575, 0.22582374, 0.22325969, 0.20570717, 0.20413592,\n",
       "       0.20100965, 0.19969903, 0.16619329, 0.16471455, 0.1324574 ,\n",
       "       0.13166716, 0.07676369, 0.0764842 , 0.00203463])"
      ]
     },
     "execution_count": 78,
     "metadata": {},
     "output_type": "execute_result"
    }
   ],
   "source": [
    "thresholds"
   ]
  },
  {
   "cell_type": "code",
   "execution_count": 79,
   "metadata": {},
   "outputs": [
    {
     "data": {
      "text/plain": [
       "0.6703728736023166"
      ]
     },
     "execution_count": 79,
     "metadata": {},
     "output_type": "execute_result"
    }
   ],
   "source": [
    "thresholds[17]"
   ]
  },
  {
   "cell_type": "code",
   "execution_count": 80,
   "metadata": {},
   "outputs": [
    {
     "data": {
      "text/plain": [
       "0.45161290322580644"
      ]
     },
     "execution_count": 80,
     "metadata": {},
     "output_type": "execute_result"
    }
   ],
   "source": [
    "tpr[17]"
   ]
  },
  {
   "cell_type": "code",
   "execution_count": 81,
   "metadata": {},
   "outputs": [
    {
     "data": {
      "text/plain": [
       "0.9032258064516129"
      ]
     },
     "execution_count": 81,
     "metadata": {},
     "output_type": "execute_result"
    }
   ],
   "source": [
    "tpr[41]"
   ]
  },
  {
   "cell_type": "code",
   "execution_count": 82,
   "metadata": {},
   "outputs": [
    {
     "data": {
      "text/plain": [
       "0.002034630082580098"
      ]
     },
     "execution_count": 82,
     "metadata": {},
     "output_type": "execute_result"
    }
   ],
   "source": [
    "thresholds[-1]"
   ]
  },
  {
   "cell_type": "code",
   "execution_count": 83,
   "metadata": {},
   "outputs": [
    {
     "data": {
      "text/plain": [
       "array([0.        , 0.01612903, 0.0483871 , 0.0483871 , 0.06451613,\n",
       "       0.06451613, 0.14516129, 0.14516129, 0.32258065, 0.32258065,\n",
       "       0.35483871, 0.35483871, 0.37096774, 0.37096774, 0.41935484,\n",
       "       0.41935484, 0.4516129 , 0.4516129 , 0.56451613, 0.56451613,\n",
       "       0.59677419])"
      ]
     },
     "execution_count": 83,
     "metadata": {},
     "output_type": "execute_result"
    }
   ],
   "source": [
    "tpr[thresholds > 0.5]"
   ]
  },
  {
   "cell_type": "code",
   "execution_count": 84,
   "metadata": {},
   "outputs": [],
   "source": [
    "# Now that we have the TPR, FPR and Thresholds values, \n",
    "# can we not define a function that can give us Sensitivity and Specificity values?"
   ]
  },
  {
   "cell_type": "code",
   "execution_count": 85,
   "metadata": {},
   "outputs": [],
   "source": [
    "# define a function that accepts a threshold and prints sensitivity and specificity\n",
    "def evaluate_threshold(threshold):\n",
    "    print('Sensitivity:', tpr[thresholds > threshold][-1])\n",
    "    print('Specificity:', 1 - fpr[thresholds > threshold][-1])"
   ]
  },
  {
   "cell_type": "code",
   "execution_count": 86,
   "metadata": {},
   "outputs": [
    {
     "name": "stdout",
     "output_type": "stream",
     "text": [
      "Sensitivity: 0.5967741935483871\n",
      "Specificity: 0.9153846153846154\n"
     ]
    }
   ],
   "source": [
    "evaluate_threshold(0.5)"
   ]
  },
  {
   "cell_type": "code",
   "execution_count": 87,
   "metadata": {},
   "outputs": [
    {
     "name": "stdout",
     "output_type": "stream",
     "text": [
      "Sensitivity: 0.7741935483870968\n",
      "Specificity: 0.7230769230769231\n"
     ]
    }
   ],
   "source": [
    "evaluate_threshold(0.3)"
   ]
  },
  {
   "cell_type": "code",
   "execution_count": 88,
   "metadata": {},
   "outputs": [
    {
     "name": "stdout",
     "output_type": "stream",
     "text": [
      "0.8604218362282878\n"
     ]
    }
   ],
   "source": [
    "# AUC is the percentage of the ROC plot that is underneath the curve\n",
    "# AUC is useful as a single number summary of classifier performance\n",
    "# Higher value = better classifier\n",
    "# AUC is useful even when there is high class imbalance (unlike classification accuracy)\n",
    "\n",
    "# IMPORTANT: first argument is true values, second argument is predicted probabilities\n",
    "print(metrics.roc_auc_score(y_test, y_pred_prob))"
   ]
  },
  {
   "cell_type": "code",
   "execution_count": 91,
   "metadata": {},
   "outputs": [
    {
     "name": "stderr",
     "output_type": "stream",
     "text": [
      "C:\\Users\\91963\\anaconda3\\lib\\site-packages\\sklearn\\linear_model\\_logistic.py:764: ConvergenceWarning: lbfgs failed to converge (status=1):\n",
      "STOP: TOTAL NO. of ITERATIONS REACHED LIMIT.\n",
      "\n",
      "Increase the number of iterations (max_iter) or scale the data as shown in:\n",
      "    https://scikit-learn.org/stable/modules/preprocessing.html\n",
      "Please also refer to the documentation for alternative solver options:\n",
      "    https://scikit-learn.org/stable/modules/linear_model.html#logistic-regression\n",
      "  extra_warning_msg=_LOGISTIC_SOLVER_CONVERGENCE_MSG)\n",
      "C:\\Users\\91963\\anaconda3\\lib\\site-packages\\sklearn\\linear_model\\_logistic.py:764: ConvergenceWarning: lbfgs failed to converge (status=1):\n",
      "STOP: TOTAL NO. of ITERATIONS REACHED LIMIT.\n",
      "\n",
      "Increase the number of iterations (max_iter) or scale the data as shown in:\n",
      "    https://scikit-learn.org/stable/modules/preprocessing.html\n",
      "Please also refer to the documentation for alternative solver options:\n",
      "    https://scikit-learn.org/stable/modules/linear_model.html#logistic-regression\n",
      "  extra_warning_msg=_LOGISTIC_SOLVER_CONVERGENCE_MSG)\n",
      "C:\\Users\\91963\\anaconda3\\lib\\site-packages\\sklearn\\linear_model\\_logistic.py:764: ConvergenceWarning: lbfgs failed to converge (status=1):\n",
      "STOP: TOTAL NO. of ITERATIONS REACHED LIMIT.\n",
      "\n",
      "Increase the number of iterations (max_iter) or scale the data as shown in:\n",
      "    https://scikit-learn.org/stable/modules/preprocessing.html\n",
      "Please also refer to the documentation for alternative solver options:\n",
      "    https://scikit-learn.org/stable/modules/linear_model.html#logistic-regression\n",
      "  extra_warning_msg=_LOGISTIC_SOLVER_CONVERGENCE_MSG)\n",
      "C:\\Users\\91963\\anaconda3\\lib\\site-packages\\sklearn\\linear_model\\_logistic.py:764: ConvergenceWarning: lbfgs failed to converge (status=1):\n",
      "STOP: TOTAL NO. of ITERATIONS REACHED LIMIT.\n",
      "\n",
      "Increase the number of iterations (max_iter) or scale the data as shown in:\n",
      "    https://scikit-learn.org/stable/modules/preprocessing.html\n",
      "Please also refer to the documentation for alternative solver options:\n",
      "    https://scikit-learn.org/stable/modules/linear_model.html#logistic-regression\n",
      "  extra_warning_msg=_LOGISTIC_SOLVER_CONVERGENCE_MSG)\n",
      "C:\\Users\\91963\\anaconda3\\lib\\site-packages\\sklearn\\linear_model\\_logistic.py:764: ConvergenceWarning: lbfgs failed to converge (status=1):\n",
      "STOP: TOTAL NO. of ITERATIONS REACHED LIMIT.\n",
      "\n",
      "Increase the number of iterations (max_iter) or scale the data as shown in:\n",
      "    https://scikit-learn.org/stable/modules/preprocessing.html\n",
      "Please also refer to the documentation for alternative solver options:\n",
      "    https://scikit-learn.org/stable/modules/linear_model.html#logistic-regression\n",
      "  extra_warning_msg=_LOGISTIC_SOLVER_CONVERGENCE_MSG)\n",
      "C:\\Users\\91963\\anaconda3\\lib\\site-packages\\sklearn\\linear_model\\_logistic.py:764: ConvergenceWarning: lbfgs failed to converge (status=1):\n",
      "STOP: TOTAL NO. of ITERATIONS REACHED LIMIT.\n",
      "\n",
      "Increase the number of iterations (max_iter) or scale the data as shown in:\n",
      "    https://scikit-learn.org/stable/modules/preprocessing.html\n",
      "Please also refer to the documentation for alternative solver options:\n",
      "    https://scikit-learn.org/stable/modules/linear_model.html#logistic-regression\n",
      "  extra_warning_msg=_LOGISTIC_SOLVER_CONVERGENCE_MSG)\n",
      "C:\\Users\\91963\\anaconda3\\lib\\site-packages\\sklearn\\linear_model\\_logistic.py:764: ConvergenceWarning: lbfgs failed to converge (status=1):\n",
      "STOP: TOTAL NO. of ITERATIONS REACHED LIMIT.\n",
      "\n",
      "Increase the number of iterations (max_iter) or scale the data as shown in:\n",
      "    https://scikit-learn.org/stable/modules/preprocessing.html\n",
      "Please also refer to the documentation for alternative solver options:\n",
      "    https://scikit-learn.org/stable/modules/linear_model.html#logistic-regression\n",
      "  extra_warning_msg=_LOGISTIC_SOLVER_CONVERGENCE_MSG)\n",
      "C:\\Users\\91963\\anaconda3\\lib\\site-packages\\sklearn\\linear_model\\_logistic.py:764: ConvergenceWarning: lbfgs failed to converge (status=1):\n",
      "STOP: TOTAL NO. of ITERATIONS REACHED LIMIT.\n",
      "\n",
      "Increase the number of iterations (max_iter) or scale the data as shown in:\n",
      "    https://scikit-learn.org/stable/modules/preprocessing.html\n",
      "Please also refer to the documentation for alternative solver options:\n",
      "    https://scikit-learn.org/stable/modules/linear_model.html#logistic-regression\n",
      "  extra_warning_msg=_LOGISTIC_SOLVER_CONVERGENCE_MSG)\n",
      "C:\\Users\\91963\\anaconda3\\lib\\site-packages\\sklearn\\linear_model\\_logistic.py:764: ConvergenceWarning: lbfgs failed to converge (status=1):\n",
      "STOP: TOTAL NO. of ITERATIONS REACHED LIMIT.\n",
      "\n",
      "Increase the number of iterations (max_iter) or scale the data as shown in:\n",
      "    https://scikit-learn.org/stable/modules/preprocessing.html\n",
      "Please also refer to the documentation for alternative solver options:\n",
      "    https://scikit-learn.org/stable/modules/linear_model.html#logistic-regression\n",
      "  extra_warning_msg=_LOGISTIC_SOLVER_CONVERGENCE_MSG)\n",
      "C:\\Users\\91963\\anaconda3\\lib\\site-packages\\sklearn\\linear_model\\_logistic.py:764: ConvergenceWarning: lbfgs failed to converge (status=1):\n",
      "STOP: TOTAL NO. of ITERATIONS REACHED LIMIT.\n",
      "\n",
      "Increase the number of iterations (max_iter) or scale the data as shown in:\n",
      "    https://scikit-learn.org/stable/modules/preprocessing.html\n",
      "Please also refer to the documentation for alternative solver options:\n",
      "    https://scikit-learn.org/stable/modules/linear_model.html#logistic-regression\n",
      "  extra_warning_msg=_LOGISTIC_SOLVER_CONVERGENCE_MSG)\n"
     ]
    },
    {
     "data": {
      "text/plain": [
       "0.8290626780626781"
      ]
     },
     "execution_count": 91,
     "metadata": {},
     "output_type": "execute_result"
    }
   ],
   "source": [
    "# calculate cross-validated AUC\n",
    "from sklearn.model_selection import cross_val_score\n",
    "cross_val_score(logreg, X, y, cv=10, scoring='roc_auc').mean()"
   ]
  },
  {
   "cell_type": "code",
   "execution_count": 92,
   "metadata": {},
   "outputs": [],
   "source": [
    "# What about Model Coefficients?\n",
    "# In addition to predicting the outcome, the model can be used to see \n",
    "# which variables are influencing the probabilities of having diabetes."
   ]
  },
  {
   "cell_type": "code",
   "execution_count": 93,
   "metadata": {},
   "outputs": [],
   "source": [
    "coef_DF=pd.DataFrame(data={'Variable':list(X),\n",
    "'value':(logreg.coef_[0])})"
   ]
  },
  {
   "cell_type": "code",
   "execution_count": 94,
   "metadata": {},
   "outputs": [
    {
     "data": {
      "text/html": [
       "<div>\n",
       "<style scoped>\n",
       "    .dataframe tbody tr th:only-of-type {\n",
       "        vertical-align: middle;\n",
       "    }\n",
       "\n",
       "    .dataframe tbody tr th {\n",
       "        vertical-align: top;\n",
       "    }\n",
       "\n",
       "    .dataframe thead th {\n",
       "        text-align: right;\n",
       "    }\n",
       "</style>\n",
       "<table border=\"1\" class=\"dataframe\">\n",
       "  <thead>\n",
       "    <tr style=\"text-align: right;\">\n",
       "      <th></th>\n",
       "      <th>Variable</th>\n",
       "      <th>value</th>\n",
       "    </tr>\n",
       "  </thead>\n",
       "  <tbody>\n",
       "    <tr>\n",
       "      <th>0</th>\n",
       "      <td>pregnant</td>\n",
       "      <td>0.103262</td>\n",
       "    </tr>\n",
       "    <tr>\n",
       "      <th>1</th>\n",
       "      <td>glucose</td>\n",
       "      <td>0.034814</td>\n",
       "    </tr>\n",
       "    <tr>\n",
       "      <th>2</th>\n",
       "      <td>bp</td>\n",
       "      <td>-0.011589</td>\n",
       "    </tr>\n",
       "    <tr>\n",
       "      <th>3</th>\n",
       "      <td>skin</td>\n",
       "      <td>0.009571</td>\n",
       "    </tr>\n",
       "    <tr>\n",
       "      <th>4</th>\n",
       "      <td>insulin</td>\n",
       "      <td>-0.001330</td>\n",
       "    </tr>\n",
       "    <tr>\n",
       "      <th>5</th>\n",
       "      <td>bmi</td>\n",
       "      <td>0.077728</td>\n",
       "    </tr>\n",
       "    <tr>\n",
       "      <th>6</th>\n",
       "      <td>pedigree</td>\n",
       "      <td>1.269483</td>\n",
       "    </tr>\n",
       "    <tr>\n",
       "      <th>7</th>\n",
       "      <td>age</td>\n",
       "      <td>0.021595</td>\n",
       "    </tr>\n",
       "  </tbody>\n",
       "</table>\n",
       "</div>"
      ],
      "text/plain": [
       "   Variable     value\n",
       "0  pregnant  0.103262\n",
       "1   glucose  0.034814\n",
       "2        bp -0.011589\n",
       "3      skin  0.009571\n",
       "4   insulin -0.001330\n",
       "5       bmi  0.077728\n",
       "6  pedigree  1.269483\n",
       "7       age  0.021595"
      ]
     },
     "execution_count": 94,
     "metadata": {},
     "output_type": "execute_result"
    }
   ],
   "source": [
    "coef_DF"
   ]
  },
  {
   "cell_type": "code",
   "execution_count": 95,
   "metadata": {},
   "outputs": [],
   "source": [
    "# Notice that most of the variables are increasing the probabilities of having diabetes.\n",
    "# However, it’s hard to detect which one is the “stronger” because \n",
    "# the standard deviation of the different coefficients is so different. \n",
    "# To do such a comparison, we need to standardize the coefficients. \n",
    "# The idea is to correct the coefficient by the variance of the variable."
   ]
  },
  {
   "cell_type": "code",
   "execution_count": 96,
   "metadata": {},
   "outputs": [],
   "source": [
    "coef_DF_standardised=pd.DataFrame(data={'Variable':list(X),\n",
    "'value':(logreg.coef_[0])*np.std(X,axis=0)/np.std(y)})"
   ]
  },
  {
   "cell_type": "code",
   "execution_count": 97,
   "metadata": {},
   "outputs": [
    {
     "data": {
      "text/html": [
       "<div>\n",
       "<style scoped>\n",
       "    .dataframe tbody tr th:only-of-type {\n",
       "        vertical-align: middle;\n",
       "    }\n",
       "\n",
       "    .dataframe tbody tr th {\n",
       "        vertical-align: top;\n",
       "    }\n",
       "\n",
       "    .dataframe thead th {\n",
       "        text-align: right;\n",
       "    }\n",
       "</style>\n",
       "<table border=\"1\" class=\"dataframe\">\n",
       "  <thead>\n",
       "    <tr style=\"text-align: right;\">\n",
       "      <th></th>\n",
       "      <th>Variable</th>\n",
       "      <th>value</th>\n",
       "    </tr>\n",
       "  </thead>\n",
       "  <tbody>\n",
       "    <tr>\n",
       "      <th>pregnant</th>\n",
       "      <td>pregnant</td>\n",
       "      <td>0.729529</td>\n",
       "    </tr>\n",
       "    <tr>\n",
       "      <th>glucose</th>\n",
       "      <td>glucose</td>\n",
       "      <td>2.333758</td>\n",
       "    </tr>\n",
       "    <tr>\n",
       "      <th>bp</th>\n",
       "      <td>bp</td>\n",
       "      <td>-0.470319</td>\n",
       "    </tr>\n",
       "    <tr>\n",
       "      <th>skin</th>\n",
       "      <td>skin</td>\n",
       "      <td>0.320127</td>\n",
       "    </tr>\n",
       "    <tr>\n",
       "      <th>insulin</th>\n",
       "      <td>insulin</td>\n",
       "      <td>-0.321448</td>\n",
       "    </tr>\n",
       "    <tr>\n",
       "      <th>bmi</th>\n",
       "      <td>bmi</td>\n",
       "      <td>1.284862</td>\n",
       "    </tr>\n",
       "    <tr>\n",
       "      <th>pedigree</th>\n",
       "      <td>pedigree</td>\n",
       "      <td>0.881884</td>\n",
       "    </tr>\n",
       "    <tr>\n",
       "      <th>age</th>\n",
       "      <td>age</td>\n",
       "      <td>0.532472</td>\n",
       "    </tr>\n",
       "  </tbody>\n",
       "</table>\n",
       "</div>"
      ],
      "text/plain": [
       "          Variable     value\n",
       "pregnant  pregnant  0.729529\n",
       "glucose    glucose  2.333758\n",
       "bp              bp -0.470319\n",
       "skin          skin  0.320127\n",
       "insulin    insulin -0.321448\n",
       "bmi            bmi  1.284862\n",
       "pedigree  pedigree  0.881884\n",
       "age            age  0.532472"
      ]
     },
     "execution_count": 97,
     "metadata": {},
     "output_type": "execute_result"
    }
   ],
   "source": [
    "coef_DF_standardised"
   ]
  },
  {
   "cell_type": "code",
   "execution_count": 98,
   "metadata": {},
   "outputs": [
    {
     "data": {
      "text/plain": [
       "['pregnant', 'glucose', 'bp', 'skin', 'insulin', 'bmi', 'pedigree', 'age']"
      ]
     },
     "execution_count": 98,
     "metadata": {},
     "output_type": "execute_result"
    }
   ],
   "source": [
    "list(X)"
   ]
  },
  {
   "cell_type": "code",
   "execution_count": 99,
   "metadata": {},
   "outputs": [
    {
     "data": {
      "image/png": "[encoded data removed]",
      "text/plain": [
       "<Figure size 432x288 with 1 Axes>"
      ]
     },
     "metadata": {
      "needs_background": "light"
     },
     "output_type": "display_data"
    }
   ],
   "source": [
    "plt.figure()\n",
    "plt.scatter(X[\"glucose\"],X[\"bmi\"],c=y,alpha=0.4)\n",
    "plt.xlabel('Glucose level ')\n",
    "plt.ylabel('BMI ')\n",
    "plt.show()"
   ]
  },
  {
   "cell_type": "code",
   "execution_count": 100,
   "metadata": {},
   "outputs": [
    {
     "data": {
      "image/png": "[encoded data removed]",
      "text/plain": [
       "<Figure size 432x288 with 1 Axes>"
      ]
     },
     "metadata": {
      "needs_background": "light"
     },
     "output_type": "display_data"
    }
   ],
   "source": [
    "plt.figure()\n",
    "plt.scatter(X[\"glucose\"],X[\"bmi\"],c=logreg.predict_proba(X)[:,1],alpha=0.4)\n",
    "plt.xlabel('Glucose level ')\n",
    "plt.ylabel('BMI ')\n",
    "plt.show()"
   ]
  },
  {
   "cell_type": "code",
   "execution_count": 101,
   "metadata": {},
   "outputs": [
    {
     "name": "stdout",
     "output_type": "stream",
     "text": [
      "0.6491228070175439\n"
     ]
    }
   ],
   "source": [
    "# # F Score: F1-Score\n",
    "# Since we have two measures (Precision and Recall) it helps to have a measurement that represents both of them\n",
    "# This is a weighted average of the true positive rate (recall) and precision\n",
    "# F-measure = 2 * Precision * Recall / Precision + Recall\n",
    "# It is difficult to compare two models with low precision and high recall or vice versa.\n",
    "# So to make them comparable, we use F-Score. F-score helps to measure Recall and Precision at the same time.\n",
    "f1 = metrics.f1_score(y_test, y_pred_class)\n",
    "print(f1)"
   ]
  },
  {
   "cell_type": "code",
   "execution_count": 102,
   "metadata": {
    "scrolled": true
   },
   "outputs": [
    {
     "name": "stdout",
     "output_type": "stream",
     "text": [
      "              precision    recall  f1-score   support\n",
      "\n",
      "           0       0.82      0.88      0.85       130\n",
      "           1       0.71      0.60      0.65        62\n",
      "\n",
      "    accuracy                           0.79       192\n",
      "   macro avg       0.77      0.74      0.75       192\n",
      "weighted avg       0.79      0.79      0.79       192\n",
      "\n"
     ]
    }
   ],
   "source": [
    "from sklearn.metrics import classification_report\n",
    "print(classification_report(y_test, y_pred_class))"
   ]
  },
  {
   "cell_type": "code",
   "execution_count": 103,
   "metadata": {},
   "outputs": [],
   "source": [
    "# So what is precision-recall curve then?"
   ]
  },
  {
   "cell_type": "code",
   "execution_count": 104,
   "metadata": {},
   "outputs": [],
   "source": [
    "# PR Curve (Precision-Recall Curve) #\n",
    "#####################################\n",
    "# Note that having a recall of 1 is not necessarily good, as a model which classifies \n",
    "   # everything as say 'spam' has recall equal to 1, but also very low precision, \n",
    "   # as there will be a lot of false positives.\n",
    "# Also, in our case, we are dealing with a fairly class imbalance dataset\n",
    "precision, recall, thresholds = metrics.precision_recall_curve(y_test, y_pred_prob)"
   ]
  },
  {
   "cell_type": "code",
   "execution_count": null,
   "metadata": {},
   "outputs": [],
   "source": []
  },
  {
   "cell_type": "code",
   "execution_count": 105,
   "metadata": {},
   "outputs": [
    {
     "data": {
      "image/png": "[encoded data removed]",
      "text/plain": [
       "<Figure size 432x288 with 1 Axes>"
      ]
     },
     "metadata": {
      "needs_background": "light"
     },
     "output_type": "display_data"
    }
   ],
   "source": [
    "plt.plot(recall, precision)\n",
    "plt.xlim([0.0, 1.0])\n",
    "plt.ylim([0.4, 1.0])\n",
    "plt.rcParams['font.size'] = 12\n",
    "##Random FPR and TPR\n",
    "plt.plot([0, 1], [0.5, 0.5], color='red', lw=2, linestyle='--')\n",
    "plt.title('Precision-Recall Curve')\n",
    "plt.xlabel('Recall')\n",
    "plt.ylabel('Precision')\n",
    "plt.grid(True)"
   ]
  },
  {
   "cell_type": "code",
   "execution_count": 106,
   "metadata": {},
   "outputs": [
    {
     "name": "stdout",
     "output_type": "stream",
     "text": [
      "0.7279306040420109\n"
     ]
    }
   ],
   "source": [
    "# With the precision-recall curve, the closer it is to the top-right corner, \n",
    "  # the better the algorithm. And hence a larger area under the curve (AUC) \n",
    "  # indicates that the algorithm has higher recall and higher precision.\n",
    "# This area under the curve is called \"Average Precision\"\n",
    "print(metrics.average_precision_score(y_test, y_pred_prob))"
   ]
  },
  {
   "cell_type": "code",
   "execution_count": 107,
   "metadata": {},
   "outputs": [],
   "source": [
    "# When to use Precision-Recall Vs ROC\n",
    "\n",
    "# ROC curves should be used when there are roughly equal numbers of observations for each class.\n",
    "# Precision-Recall curves should be used when there is a moderate to large class imbalance."
   ]
  },
  {
   "cell_type": "code",
   "execution_count": 108,
   "metadata": {},
   "outputs": [],
   "source": [
    "# Adjusting the Predicted Class with a different threshold value"
   ]
  },
  {
   "cell_type": "code",
   "execution_count": 109,
   "metadata": {},
   "outputs": [
    {
     "data": {
      "text/plain": [
       "array([1, 0, 0, 1, 0, 0, 1, 1, 1, 0, 1, 1, 0, 0, 0, 0, 1, 0, 0, 0, 1, 0,\n",
       "       0, 0, 0, 0, 0, 1, 0, 0, 1, 0, 0, 1, 0, 1, 0, 0, 0, 1, 0, 0, 0, 1,\n",
       "       1, 0, 0, 0, 0, 0, 0, 0, 1, 1, 0, 0, 0, 0, 0, 0, 1, 0, 0, 1, 1, 1,\n",
       "       1, 0, 0, 0, 0, 0, 0, 1, 1, 0, 0, 1, 0, 0, 0, 0, 0, 0, 0, 0, 0, 0,\n",
       "       1, 0, 0, 0, 0, 0, 1, 0, 0, 0, 1, 0, 0, 0, 0, 0, 1, 0, 0, 0, 0, 1,\n",
       "       0, 0, 1, 1, 1, 1, 0, 1, 0, 1, 0, 0, 0, 0, 0, 0, 0, 0, 0, 0, 0, 0,\n",
       "       0, 1, 0, 0, 0, 0, 1, 0, 0, 1, 0, 0, 0, 0, 0, 0, 0, 0, 0, 1, 0, 0,\n",
       "       1, 0, 1, 0, 0, 1, 1, 1, 0, 0, 1, 0, 0, 0, 0, 0, 0, 0, 0, 0, 1, 0,\n",
       "       0, 0, 0, 0, 0, 1, 0, 1, 1, 0, 1, 0, 0, 0, 0, 0], dtype=int64)"
      ]
     },
     "execution_count": 109,
     "metadata": {},
     "output_type": "execute_result"
    }
   ],
   "source": [
    "y_pred_class"
   ]
  },
  {
   "cell_type": "code",
   "execution_count": 110,
   "metadata": {},
   "outputs": [
    {
     "data": {
      "text/plain": [
       "array([0.97428835, 0.16013943, 0.07676369, 0.68036078, 0.12173911,\n",
       "       0.03377829, 0.80425504, 0.89669145, 0.509292  , 0.3652519 ,\n",
       "       0.64173536, 0.96977408, 0.31687134, 0.25382032, 0.1328693 ,\n",
       "       0.17782395, 0.89823541, 0.02210678, 0.46774142, 0.25203281,\n",
       "       0.68363501, 0.38904585, 0.21695189, 0.05843085, 0.05034223,\n",
       "       0.35738386, 0.04677274, 0.94260989, 0.1087139 , 0.12906167,\n",
       "       0.52654746, 0.24568008, 0.10098172, 0.50008539, 0.08976953,\n",
       "       0.67498853, 0.49734197, 0.08526966, 0.32090489, 0.73545171,\n",
       "       0.28379361, 0.1846241 , 0.16619329, 0.82726031, 0.76336899,\n",
       "       0.01183368, 0.0792846 , 0.19969903, 0.41684285, 0.2901297 ,\n",
       "       0.39064065, 0.17182507, 0.90133942, 0.54018343, 0.1218827 ,\n",
       "       0.00203463, 0.06015479, 0.46491409, 0.2659832 , 0.0764842 ,\n",
       "       0.7500028 , 0.46639132, 0.09046577, 0.6992273 , 0.67188352,\n",
       "       0.93629221, 0.72146615, 0.1324574 , 0.33737347, 0.10880911,\n",
       "       0.09676372, 0.35029392, 0.08551766, 0.96746586, 0.82973656,\n",
       "       0.28810745, 0.11466566, 0.70078632, 0.06883993, 0.1724062 ,\n",
       "       0.28423455, 0.40439916, 0.22631369, 0.03084265, 0.18870326,\n",
       "       0.16652023, 0.26733942, 0.35405959, 0.89334721, 0.15913808,\n",
       "       0.15926173, 0.15942424, 0.22582374, 0.04140624, 0.6770962 ,\n",
       "       0.18962538, 0.46842565, 0.49945809, 0.724826  , 0.23018575,\n",
       "       0.21619859, 0.09421043, 0.17986496, 0.03558503, 0.6987947 ,\n",
       "       0.39267682, 0.14420028, 0.28636955, 0.04114587, 0.78650752,\n",
       "       0.1165013 , 0.3123689 , 0.57320404, 0.52731241, 0.52880347,\n",
       "       0.60157586, 0.1220962 , 0.67995472, 0.08819303, 0.79502318,\n",
       "       0.36987988, 0.38602087, 0.266105  , 0.48284206, 0.20782258,\n",
       "       0.03721416, 0.32137589, 0.39471544, 0.48929261, 0.36389294,\n",
       "       0.39226691, 0.03831883, 0.05196798, 0.78361907, 0.33002173,\n",
       "       0.46059291, 0.11711467, 0.37492385, 0.64405416, 0.18177659,\n",
       "       0.07128712, 0.55091609, 0.05518519, 0.06827553, 0.31092536,\n",
       "       0.0827261 , 0.07293231, 0.09445941, 0.16328285, 0.22325969,\n",
       "       0.07536054, 0.63815286, 0.08999631, 0.20100965, 0.80612409,\n",
       "       0.12321463, 0.67037287, 0.15145591, 0.47053649, 0.95220974,\n",
       "       0.68965045, 0.77337424, 0.01896922, 0.26596636, 0.84911785,\n",
       "       0.24085373, 0.17505322, 0.1031767 , 0.20570717, 0.08707502,\n",
       "       0.10809114, 0.24660852, 0.16471455, 0.20413592, 0.5239915 ,\n",
       "       0.12637864, 0.37741769, 0.10094419, 0.10470625, 0.05839823,\n",
       "       0.13166716, 0.82915254, 0.141077  , 0.97277316, 0.55742065,\n",
       "       0.02386665, 0.57839115, 0.23762723, 0.42778009, 0.13711482,\n",
       "       0.18595608, 0.09350525])"
      ]
     },
     "execution_count": 110,
     "metadata": {},
     "output_type": "execute_result"
    }
   ],
   "source": [
    "y_pred_prob"
   ]
  },
  {
   "cell_type": "code",
   "execution_count": 111,
   "metadata": {},
   "outputs": [],
   "source": [
    "y_pred_class_Adjusted = np.where(y_pred_prob > 0.3, 1, 0)"
   ]
  },
  {
   "cell_type": "code",
   "execution_count": 112,
   "metadata": {},
   "outputs": [
    {
     "data": {
      "text/plain": [
       "array([1, 0, 0, 1, 0, 0, 1, 1, 1, 1, 1, 1, 1, 0, 0, 0, 1, 0, 1, 0, 1, 1,\n",
       "       0, 0, 0, 1, 0, 1, 0, 0, 1, 0, 0, 1, 0, 1, 1, 0, 1, 1, 0, 0, 0, 1,\n",
       "       1, 0, 0, 0, 1, 0, 1, 0, 1, 1, 0, 0, 0, 1, 0, 0, 1, 1, 0, 1, 1, 1,\n",
       "       1, 0, 1, 0, 0, 1, 0, 1, 1, 0, 0, 1, 0, 0, 0, 1, 0, 0, 0, 0, 0, 1,\n",
       "       1, 0, 0, 0, 0, 0, 1, 0, 1, 1, 1, 0, 0, 0, 0, 0, 1, 1, 0, 0, 0, 1,\n",
       "       0, 1, 1, 1, 1, 1, 0, 1, 0, 1, 1, 1, 0, 1, 0, 0, 1, 1, 1, 1, 1, 0,\n",
       "       0, 1, 1, 1, 0, 1, 1, 0, 0, 1, 0, 0, 1, 0, 0, 0, 0, 0, 0, 1, 0, 0,\n",
       "       1, 0, 1, 0, 1, 1, 1, 1, 0, 0, 1, 0, 0, 0, 0, 0, 0, 0, 0, 0, 1, 0,\n",
       "       1, 0, 0, 0, 0, 1, 0, 1, 1, 0, 1, 0, 1, 0, 0, 0])"
      ]
     },
     "execution_count": 112,
     "metadata": {},
     "output_type": "execute_result"
    }
   ],
   "source": [
    "y_pred_class_Adjusted"
   ]
  },
  {
   "cell_type": "code",
   "execution_count": 113,
   "metadata": {},
   "outputs": [],
   "source": [
    "# Dealing with the case of Class Imbalance Problem. Following are some of the Techniques:\n",
    "# 1. Undersampling of majority class\n",
    "# 2. Oversampling of minority Class\n",
    "# 3. Synthetic Minority Oversampling Technique(SMOTE)"
   ]
  },
  {
   "cell_type": "code",
   "execution_count": 114,
   "metadata": {},
   "outputs": [],
   "source": [
    "# SMOTE Process\n",
    "  # Identify the feature vector and its nearest neighbor (using knn)\n",
    "  # take the difference between the two\n",
    "  # Multiply the difference with a random number between 0 and 1\n",
    "  # Identify a new point on the line segment by adding the random number to feature vector\n",
    "  # Repeat the process for identified feature vectors\n",
    "# Note that it create NEW observations"
   ]
  },
  {
   "cell_type": "code",
   "execution_count": 125,
   "metadata": {},
   "outputs": [
    {
     "data": {
      "image/png": "[encoded data removed]",
      "text/plain": [
       "<IPython.core.display.Image object>"
      ]
     },
     "execution_count": 125,
     "metadata": {},
     "output_type": "execute_result"
    }
   ],
   "source": [
    "from IPython.display import Image\n",
    "Image(filename='SMOTE.png')"
   ]
  },
  {
   "cell_type": "code",
   "execution_count": 115,
   "metadata": {},
   "outputs": [],
   "source": [
    "X = Diabetes.iloc[:,:8]\n",
    "y = Diabetes.iloc[:,8]"
   ]
  },
  {
   "cell_type": "code",
   "execution_count": 116,
   "metadata": {},
   "outputs": [
    {
     "ename": "ModuleNotFoundError",
     "evalue": "No module named 'imblearn'",
     "output_type": "error",
     "traceback": [
      "\u001b[1;31m---------------------------------------------------------------------------\u001b[0m",
      "\u001b[1;31mModuleNotFoundError\u001b[0m                       Traceback (most recent call last)",
      "\u001b[1;32m<ipython-input-116-1661cf394bff>\u001b[0m in \u001b[0;36m<module>\u001b[1;34m\u001b[0m\n\u001b[0;32m      1\u001b[0m \u001b[1;31m# import SMOTE\u001b[0m\u001b[1;33m\u001b[0m\u001b[1;33m\u001b[0m\u001b[1;33m\u001b[0m\u001b[0m\n\u001b[1;32m----> 2\u001b[1;33m \u001b[1;32mfrom\u001b[0m \u001b[0mimblearn\u001b[0m\u001b[1;33m.\u001b[0m\u001b[0mover_sampling\u001b[0m \u001b[1;32mimport\u001b[0m \u001b[0mSMOTE\u001b[0m\u001b[1;33m\u001b[0m\u001b[1;33m\u001b[0m\u001b[0m\n\u001b[0m\u001b[0;32m      3\u001b[0m \u001b[1;31m# If you get the error saying no such package/module, execute the following in Anaconda Prompt:\u001b[0m\u001b[1;33m\u001b[0m\u001b[1;33m\u001b[0m\u001b[1;33m\u001b[0m\u001b[0m\n\u001b[0;32m      4\u001b[0m    \u001b[1;31m# pip install -U imbalanced-learn\u001b[0m\u001b[1;33m\u001b[0m\u001b[1;33m\u001b[0m\u001b[1;33m\u001b[0m\u001b[0m\n\u001b[0;32m      5\u001b[0m    \u001b[1;31m# conda install -c glemaitre imbalanced-learn\u001b[0m\u001b[1;33m\u001b[0m\u001b[1;33m\u001b[0m\u001b[1;33m\u001b[0m\u001b[0m\n",
      "\u001b[1;31mModuleNotFoundError\u001b[0m: No module named 'imblearn'"
     ]
    }
   ],
   "source": [
    "# import SMOTE\n",
    "from imblearn.over_sampling import SMOTE\n",
    "# If you get the error saying no such package/module, execute the following in Anaconda Prompt:\n",
    "   # pip install -U imbalanced-learn\n",
    "   # conda install -c glemaitre imbalanced-learn\n",
    "\n",
    "# Create the OverSampling object 'os'\n",
    "os = SMOTE(random_state=0)"
   ]
  },
  {
   "cell_type": "code",
   "execution_count": 117,
   "metadata": {},
   "outputs": [],
   "source": [
    "# Divide the data into train-test sets as usual\n",
    "X_train, X_test, y_train, y_test = train_test_split(X, y, test_size=0.3, random_state=0)\n",
    "columns = X_train.columns"
   ]
  },
  {
   "cell_type": "code",
   "execution_count": 118,
   "metadata": {},
   "outputs": [
    {
     "ename": "AttributeError",
     "evalue": "module 'os' has no attribute 'fit_sample'",
     "output_type": "error",
     "traceback": [
      "\u001b[1;31m---------------------------------------------------------------------------\u001b[0m",
      "\u001b[1;31mAttributeError\u001b[0m                            Traceback (most recent call last)",
      "\u001b[1;32m<ipython-input-118-c5c61558e33a>\u001b[0m in \u001b[0;36m<module>\u001b[1;34m\u001b[0m\n\u001b[0;32m      1\u001b[0m \u001b[1;31m# Create over sampled datasets\u001b[0m\u001b[1;33m\u001b[0m\u001b[1;33m\u001b[0m\u001b[1;33m\u001b[0m\u001b[0m\n\u001b[1;32m----> 2\u001b[1;33m \u001b[0mos_data_X\u001b[0m\u001b[1;33m,\u001b[0m\u001b[0mos_data_y\u001b[0m\u001b[1;33m=\u001b[0m\u001b[0mos\u001b[0m\u001b[1;33m.\u001b[0m\u001b[0mfit_sample\u001b[0m\u001b[1;33m(\u001b[0m\u001b[0mX_train\u001b[0m\u001b[1;33m,\u001b[0m \u001b[0my_train\u001b[0m\u001b[1;33m)\u001b[0m\u001b[1;33m\u001b[0m\u001b[1;33m\u001b[0m\u001b[0m\n\u001b[0m\u001b[0;32m      3\u001b[0m \u001b[1;31m# Just convert them into data frames\u001b[0m\u001b[1;33m\u001b[0m\u001b[1;33m\u001b[0m\u001b[1;33m\u001b[0m\u001b[0m\n\u001b[0;32m      4\u001b[0m \u001b[0mos_data_X\u001b[0m \u001b[1;33m=\u001b[0m \u001b[0mpd\u001b[0m\u001b[1;33m.\u001b[0m\u001b[0mDataFrame\u001b[0m\u001b[1;33m(\u001b[0m\u001b[0mdata\u001b[0m\u001b[1;33m=\u001b[0m\u001b[0mos_data_X\u001b[0m\u001b[1;33m,\u001b[0m\u001b[0mcolumns\u001b[0m\u001b[1;33m=\u001b[0m\u001b[0mcolumns\u001b[0m \u001b[1;33m)\u001b[0m\u001b[1;33m\u001b[0m\u001b[1;33m\u001b[0m\u001b[0m\n\u001b[0;32m      5\u001b[0m \u001b[0mos_data_y\u001b[0m\u001b[1;33m=\u001b[0m \u001b[0mpd\u001b[0m\u001b[1;33m.\u001b[0m\u001b[0mDataFrame\u001b[0m\u001b[1;33m(\u001b[0m\u001b[0mdata\u001b[0m\u001b[1;33m=\u001b[0m\u001b[0mos_data_y\u001b[0m\u001b[1;33m,\u001b[0m\u001b[0mcolumns\u001b[0m\u001b[1;33m=\u001b[0m\u001b[1;33m[\u001b[0m\u001b[1;34m'label'\u001b[0m\u001b[1;33m]\u001b[0m\u001b[1;33m)\u001b[0m\u001b[1;33m\u001b[0m\u001b[1;33m\u001b[0m\u001b[0m\n",
      "\u001b[1;31mAttributeError\u001b[0m: module 'os' has no attribute 'fit_sample'"
     ]
    }
   ],
   "source": [
    "# Create over sampled datasets\n",
    "os_data_X,os_data_y=os.fit_sample(X_train, y_train)\n",
    "# Just convert them into data frames\n",
    "os_data_X = pd.DataFrame(data=os_data_X,columns=columns )\n",
    "os_data_y= pd.DataFrame(data=os_data_y,columns=['label'])"
   ]
  },
  {
   "cell_type": "code",
   "execution_count": 151,
   "metadata": {},
   "outputs": [
    {
     "name": "stdout",
     "output_type": "stream",
     "text": [
      "Let us see if the classes are imbalanced \n",
      " 0    343\n",
      "1    194\n",
      "Name: label, dtype: int64\n",
      "length of original training data is  537\n",
      "length of oversampled data is  686\n",
      "Number of non-diabetic in oversampled data 343\n",
      "Number of diabetic 343\n",
      "Proportion of non-diabetic data in oversampled data is  0.5\n",
      "Proportion of diabetic data in oversampled data is  0.5\n"
     ]
    }
   ],
   "source": [
    "# we can Check the numbers of our data\n",
    "print(\"Let us see if the classes are imbalanced \\n\", y_train.value_counts())\n",
    "print(\"length of original training data is \",len(X_train))\n",
    "print(\"length of oversampled data is \",len(os_data_X))\n",
    "print(\"Number of non-diabetic in oversampled data\",len(os_data_y[os_data_y['label']==0]))\n",
    "print(\"Number of diabetic\",len(os_data_y[os_data_y['label']==1]))\n",
    "print(\"Proportion of non-diabetic data in oversampled data is \",len(os_data_y[os_data_y['label']==0])/len(os_data_X))\n",
    "print(\"Proportion of diabetic data in oversampled data is \",len(os_data_y[os_data_y['label']==1])/len(os_data_X))"
   ]
  },
  {
   "cell_type": "code",
   "execution_count": null,
   "metadata": {},
   "outputs": [],
   "source": [
    "# notice that we over-sampled only on the training data, because \n",
    "  # by oversampling only on the training data, none of the information in the \n",
    "  # test data is being used to create synthetic observations, therefore, \n",
    "  # no information will bleed from test data into the model training."
   ]
  },
  {
   "cell_type": "code",
   "execution_count": null,
   "metadata": {},
   "outputs": [],
   "source": []
  },
  {
   "cell_type": "code",
   "execution_count": null,
   "metadata": {},
   "outputs": [],
   "source": []
  },
  {
   "cell_type": "code",
   "execution_count": null,
   "metadata": {},
   "outputs": [],
   "source": []
  }
 ],
 "metadata": {
  "kernelspec": {
   "display_name": "Python 3",
   "language": "python",
   "name": "python3"
  },
  "language_info": {
   "codemirror_mode": {
    "name": "ipython",
    "version": 3
   },
   "file_extension": ".py",
   "mimetype": "text/x-python",
   "name": "python",
   "nbconvert_exporter": "python",
   "pygments_lexer": "ipython3",
   "version": "3.7.6"
  }
 },
 "nbformat": 4,
 "nbformat_minor": 2
}
